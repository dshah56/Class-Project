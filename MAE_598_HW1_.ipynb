{
  "nbformat": 4,
  "nbformat_minor": 0,
  "metadata": {
    "colab": {
      "provenance": [],
      "authorship_tag": "ABX9TyNcnnsWHCNg9xlzBaQhLAhx",
      "include_colab_link": true
    },
    "kernelspec": {
      "name": "python3",
      "display_name": "Python 3"
    },
    "language_info": {
      "name": "python"
    }
  },
  "cells": [
    {
      "cell_type": "markdown",
      "metadata": {
        "id": "view-in-github",
        "colab_type": "text"
      },
      "source": [
        "<a href=\"https://colab.research.google.com/github/dshah56/Class-Project/blob/main/MAE_598_HW1_.ipynb\" target=\"_parent\"><img src=\"https://colab.research.google.com/assets/colab-badge.svg\" alt=\"Open In Colab\"/></a>"
      ]
    },
    {
      "cell_type": "markdown",
      "source": [
        "# Dia Shah"
      ],
      "metadata": {
        "id": "TFBYY2ahb_7t"
      }
    },
    {
      "cell_type": "code",
      "execution_count": 4,
      "metadata": {
        "colab": {
          "base_uri": "https://localhost:8080/"
        },
        "id": "oN2nYlO9bkDZ",
        "outputId": "15184884-bba5-4aee-9d87-a651ed8bf980"
      },
      "outputs": [
        {
          "output_type": "stream",
          "name": "stdout",
          "text": [
            "[-0.76744186  0.25581395  0.62790696 -0.11627905  0.25581395]\n",
            "[-0.76744186  0.25581395  0.62790698 -0.11627907  0.25581395]\n",
            "I observe that the values have a very minor difference. It can be neglected in some cases but not all where higher precision is needed\n"
          ]
        }
      ],
      "source": [
        "from scipy.optimize import minimize\n",
        "\n",
        "def objective(x):\n",
        "  x1 = x[0]\n",
        "  x2 = x[1]\n",
        "  x3 = x[2]\n",
        "  x4 = x[3]\n",
        "  x5 = x[4]\n",
        "  return (x1-x2)**2 + (x2+x3-2)**2 + (x4-1)**2 + (x5-1)**2\n",
        "\n",
        "def const1(x):\n",
        "  return x[0]+3*x[1]\n",
        "def const2(x):\n",
        "  return x[2]+x[3]-2*x[4]\n",
        "def const3(x):\n",
        "  return x[1]-x[4]\n",
        "\n",
        "b = (-10,10)\n",
        "bnds = (b,b,b,b,b)\n",
        "\n",
        "const = ({'type':'eq','fun':const1},\n",
        "         {'type':'eq','fun':const2},\n",
        "         {'type':'eq','fun':const3})\n",
        "\n",
        "# first guess\n",
        "x0 = [-7, -4, 3, 8, 9]\n",
        "\n",
        "sol = minimize(objective,x0,method='SLSQP',bounds=bnds,constraints=const)\n",
        "print(sol.x)\n",
        "\n",
        "# second guess\n",
        "xn = [-3, -1, 0, 4, 7]\n",
        "\n",
        "sol = minimize(objective,xn,method='SLSQP',bounds=bnds,constraints=const)\n",
        "print(sol.x)\n",
        "\n",
        "print('I observe that the values have a very minor difference. It can be neglected in some cases but not all where higher precision is needed')"
      ]
    },
    {
      "cell_type": "code",
      "source": [],
      "metadata": {
        "id": "JuqMNkJwJj0K"
      },
      "execution_count": null,
      "outputs": []
    }
  ]
}